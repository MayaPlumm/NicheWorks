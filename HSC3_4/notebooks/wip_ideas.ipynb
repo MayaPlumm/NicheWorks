{
 "cells": [
  {
   "cell_type": "code",
   "execution_count": 1,
   "metadata": {
    "vscode": {
     "languageId": "r"
    }
   },
   "outputs": [
    {
     "name": "stdout",
     "output_type": "stream",
     "text": [
      "\n",
      "Pobrane pakiety binarne sa w\n",
      "\t/var/folders/yp/8twz3pp55nv5lgw_rgbqz_r80000gn/T//Rtmpo6iDwu/downloaded_packages\n"
     ]
    },
    {
     "data": {
      "text/html": [
       "'property'"
      ],
      "text/latex": [
       "'property'"
      ],
      "text/markdown": [
       "'property'"
      ],
      "text/plain": [
       "[1] \"property\""
      ]
     },
     "metadata": {},
     "output_type": "display_data"
    }
   ],
   "source": [
    "# z tymi pakietami trzeba zrobic porzadek\n",
    "install.packages(\"properties\")\n",
    "library(\"properties\")\n",
    "project.properties <- read.properties(\"../src/project.properties\")\n",
    "\n",
    "project.properties$sample"
   ]
  },
  {
   "cell_type": "code",
   "execution_count": null,
   "metadata": {
    "vscode": {
     "languageId": "r"
    }
   },
   "outputs": [],
   "source": [
    "#TODO: funkcja do wywietl-i-zapisz-jesli nie ma - force\n",
    "\n",
    "#opcje na zapisywanie w R\n",
    "\n",
    "png('filename.png')\n",
    "# make plot\n",
    "dev.off()\n",
    "\n",
    "ggplot(...)\n",
    "ggsave(\"cos.png\")\n",
    "\n",
    "png(filename=\"your/file/location/name.png\")\n",
    "plot(fit)\n",
    "dev.off()\n",
    "\n",
    "# opcja B [language agnostic - save all images]:\n",
    "# https://stackoverflow.com/questions/38166236/jupyter-notebook-automatically-saves-all-images\n"
   ]
  }
 ],
 "metadata": {
  "kernelspec": {
   "display_name": "R",
   "language": "R",
   "name": "ir"
  },
  "language_info": {
   "codemirror_mode": "r",
   "file_extension": ".r",
   "mimetype": "text/x-r-source",
   "name": "R",
   "pygments_lexer": "r",
   "version": "4.3.3"
  }
 },
 "nbformat": 4,
 "nbformat_minor": 2
}
